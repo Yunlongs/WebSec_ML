{
 "cells": [
  {
   "cell_type": "markdown",
   "metadata": {},
   "source": [
    "# Web安全之机器学习\n",
    "## 第7章 朴素贝叶斯算法\n",
    "### 7.8 示例：识别验证码\n",
    "\n",
    "#### 1. 数据搜集和数据清洗\n",
    "这里需要利用pickle库和gzip库来一同读取文件。\n",
    "\n",
    ">在机器学习中，我们常常需要把训练好的模型存储起来，这样在进行决策时直接将模型读出，而不需要重新训练模型，这样就大大节约了时间。Python提供的pickle模块就很好地解决了这个问题，它可以序列化对象并保存到磁盘中，并在需要的时候读取出来，任何对象都可以执行序列化操作。\n",
    "\n",
    "**Pickle模块中最常用的函数为：**\n",
    "\n",
    "（1） pickle.dump(obj, file, [,protocol])\n",
    "\n",
    "- 函数的功能：将obj对象序列化存入已经打开的file中。\n",
    "- 参数讲解：\n",
    "\n",
    "obj：想要序列化的obj对象。\n",
    "\n",
    "file:文件名称。\n",
    "\n",
    "rotocol：序列化使用的协议。如果该项省略，则默认为0。如果为负值或HIGHEST_PROTOCOL，则使用最高的协议版本。\n",
    "\n",
    "（2）pickle.load(file)\n",
    "\n",
    "- 函数的功能：将file中的对象序列化读出。\n",
    "\n",
    "- 参数讲解：\n",
    "\n",
    "file：文件名称。\n",
    "\n",
    "（3）pickle.dumps(obj[, protocol])\n",
    "\n",
    "- 函数的功能：将obj对象序列化为string形式，而不是存入文件中。\n",
    "\n",
    "- 参数讲解：\n",
    "\n",
    "obj：想要序列化的obj对象。\n",
    "\n",
    "protocal：如果该项省略，则默认为0。如果为负值或HIGHEST_PROTOCOL，则使用最高的协议版本。\n",
    "\n",
    "（4）pickle.loads(string)\n",
    "\n",
    "- 函数的功能：从string中读出序列化前的obj对象。\n",
    "\n",
    "- 参数讲解：\n",
    "\n",
    "string：文件名称。"
   ]
  },
  {
   "cell_type": "code",
   "execution_count": 1,
   "metadata": {
    "collapsed": true
   },
   "outputs": [],
   "source": [
    "import pickle\n",
    "import gzip\n",
    "from sklearn.naive_bayes import GaussianNB\n",
    "from sklearn.model_selection import cross_val_score\n",
    "\n",
    "def load_data():\n",
    "    with gzip.open('../data/mnist.pkl.gz') as fp:\n",
    "        training_data,valid_data,test_data = pickle.load(fp,encoding=\"bytes\")\n",
    "    return training_data,valid_data,test_data"
   ]
  },
  {
   "cell_type": "markdown",
   "metadata": {},
   "source": [
    "#### 2. 特征化\n",
    "MNIST已经将$28\\times 28$的图片特征化成为784的一维向量"
   ]
  },
  {
   "cell_type": "markdown",
   "metadata": {},
   "source": [
    "#### 3.训练模型和效果验证\n",
    "因为训练集和测试集已经划分好了，可以先用clf进行拟合，然后使用cross_val_score对测试集进行预测，计算器“准确度”。"
   ]
  },
  {
   "cell_type": "code",
   "execution_count": 2,
   "metadata": {},
   "outputs": [
    {
     "name": "stdout",
     "output_type": "stream",
     "text": [
      "score= [ 0.53684841  0.58385839  0.6043857 ]\n"
     ]
    }
   ],
   "source": [
    "def main():\n",
    "    train_data,valid_data,test_data = load_data()\n",
    "\n",
    "    x1,y1=train_data\n",
    "    x2,y2 = test_data\n",
    "    clf = GaussianNB()\n",
    "    clf.fit(x1,y1)\n",
    "\n",
    "    score = cross_val_score(clf,x2,y2,scoring=\"accuracy\")\n",
    "    print(\"score=\",score)\n",
    "main()"
   ]
  }
 ],
 "metadata": {
  "kernelspec": {
   "display_name": "Python 3",
   "language": "python",
   "name": "python3"
  },
  "language_info": {
   "codemirror_mode": {
    "name": "ipython",
    "version": 3
   },
   "file_extension": ".py",
   "mimetype": "text/x-python",
   "name": "python",
   "nbconvert_exporter": "python",
   "pygments_lexer": "ipython3",
   "version": "3.5.2"
  }
 },
 "nbformat": 4,
 "nbformat_minor": 2
}
