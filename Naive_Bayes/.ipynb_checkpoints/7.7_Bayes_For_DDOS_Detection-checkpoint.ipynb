{
 "cells": [
  {
   "cell_type": "markdown",
   "metadata": {},
   "source": [
    "# Web安全之机器学习\n",
    "## 第7章 朴素贝叶斯算法\n",
    "### 7.7 示例：检测针对Apache的DDos攻击\n",
    "#### 1. 数据搜集和数据清洗\n",
    "这次数据集仍然使用KDD 99数据集，其特征分为三类：网络连接基本特征、基于时间的流量统计特征、基于主机的网络流量统计特征。\n",
    "其中和DDOS有关的**网络连接基本特征有**：\n",
    "\n",
    "- duration：连接持续时间\n",
    "- src_bytes：源到目的地的字节数\n",
    "- dst_bytes：目的地到源的字节数\n",
    "- land：src是否为dst\n",
    "- wrong_fragment： 错误分段数\n",
    "- urgent： 加急包个数\n",
    "\n",
    "其中和DDOS有关的**基于时间的流量统计特征（过去2秒内）有**：\n",
    "\n",
    " - count：相同目标主机的连接数\n",
    " - srv_count：相同服务的连接数\n",
    " - serror_rate：相同目标主机的连接中，出现\"SYN\"错误的概率\n",
    " - srv_serror_rate:相同服务的连接中，出现\"SYN\"错误的概率\n",
    " - rerror_rate：相同目标主机的连接中，出现\"REJ\"错误的概率\n",
    " - srv_rerror_rate：相同服务的连接中，出现\"REJ\"错误的概率\n",
    " - same_srv_rate：相同目标主机的连接中，具有相同服务的百分比\n",
    " - diff_srv_rate：相同目标主机的连接中，具有不同服务的百分比\n",
    " - rv_diff_host_rate：相同服务的连接中，具有不同目标主机的概率\n",
    " \n",
    " 其中和DDOS有关的**基于主机的网络流量统计特征（前100个连接）有**：\n",
    " \n",
    " - dst_host_count：相同目标主机的连接数\n",
    " - dst_host_srv_count：相同目标主机和相同服务的连接数\n",
    " - dst_host_same_srv_rate：相同目标主机中相同服务的占比\n",
    " - dst_host_diff_srv_rate：相同目标主机中不同服务的占比\n",
    " - dst_host_same_src_port_rate：相同目标主机相同源端口的连接占比\n",
    " - dst_host_srv_diff_host_rate：相同目标主机不同源端口的连接占比\n",
    " - dst_host_serror_rate：相同目标主机出现\"SYN\"错误的占比\n",
    " - dst_host_srv_serror_rate：相同目标主机相同服务出现“SYN”错误的占比\n",
    " - dst_host_rerror_rate：相同目标主机，出现\"REJ\"错误的占比\n",
    " - dst_host_srv_rerror_rate：相同目标主机相同服务出现\"REJ\"错误的占比"
   ]
  },
  {
   "cell_type": "code",
   "execution_count": 1,
   "metadata": {
    "collapsed": true
   },
   "outputs": [],
   "source": [
    "#代码就不放了，数据集太大了，数据操作流程和5.5一致"
   ]
  }
 ],
 "metadata": {
  "kernelspec": {
   "display_name": "Python 3",
   "language": "python",
   "name": "python3"
  },
  "language_info": {
   "codemirror_mode": {
    "name": "ipython",
    "version": 3
   },
   "file_extension": ".py",
   "mimetype": "text/x-python",
   "name": "python",
   "nbconvert_exporter": "python",
   "pygments_lexer": "ipython3",
   "version": "3.5.2"
  }
 },
 "nbformat": 4,
 "nbformat_minor": 2
}
