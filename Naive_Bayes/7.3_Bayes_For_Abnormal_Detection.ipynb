{
 "cells": [
  {
   "cell_type": "markdown",
   "metadata": {},
   "source": [
    "# Web安全之机器学习\n",
    "## 第7章 朴素贝叶斯算法\n",
    "### 7.3 示例：检测异常操作\n",
    "\n",
    "这里我们选用在5.3和5.4中使用过的异常检测数据集。这里就不多做描述。\n",
    "#### 1. 数据搜集和数据清洗"
   ]
  },
  {
   "cell_type": "code",
   "execution_count": 1,
   "metadata": {
    "collapsed": true
   },
   "outputs": [],
   "source": [
    "import numpy as np\n",
    "from sklearn.naive_bayes import GaussianNB\n",
    "from sklearn.model_selection import train_test_split"
   ]
  },
  {
   "cell_type": "code",
   "execution_count": 2,
   "metadata": {
    "collapsed": true
   },
   "outputs": [],
   "source": [
    "def convert_to_cmdlist_new(filename):\n",
    "    cmd_list = []\n",
    "    dist = []\n",
    "    with open(filename) as f:\n",
    "        x = []\n",
    "        for i, line in enumerate(f.readlines()):\n",
    "            x.append(line.strip())\n",
    "            dist.append(line.strip())\n",
    "            if i % 100 == 0:\n",
    "                cmd_list.append(x)\n",
    "                x = []\n",
    "    return cmd_list,list(set(dist))"
   ]
  },
  {
   "cell_type": "markdown",
   "metadata": {},
   "source": [
    "#### 2.特征化"
   ]
  },
  {
   "cell_type": "code",
   "execution_count": 3,
   "metadata": {
    "collapsed": true
   },
   "outputs": [],
   "source": [
    "def get_feature_new(cmd_list,dist):\n",
    "    matrix = np.zeros((len(cmd_list),len(dist)))\n",
    "    for i,cmd in enumerate(cmd_list):\n",
    "        for j,x in enumerate(dist):\n",
    "            if x in cmd:\n",
    "                matrix[i,j] += 1\n",
    "    return matrix\n",
    "\n",
    "def get_label():\n",
    "    return np.loadtxt(\"../data/masquerade/label.txt\")"
   ]
  },
  {
   "cell_type": "markdown",
   "metadata": {},
   "source": [
    "#### 3. 训练模型和效果验证"
   ]
  },
  {
   "cell_type": "code",
   "execution_count": 9,
   "metadata": {},
   "outputs": [
    {
     "name": "stdout",
     "output_type": "stream",
     "text": [
      "score= 0.916666666667\n"
     ]
    }
   ],
   "source": [
    "def main():\n",
    "    cmd_list,dist = convert_to_cmdlist_new(\"../data/masquerade/User3\")\n",
    "    X = get_feature_new(cmd_list,dist)\n",
    "    Y = get_label()\n",
    "    Y = np.vstack((np.zeros((50, 1)), Y[:, 2].reshape(Y.shape[0], 1))).ravel()\n",
    "    X_train,X_test,Y_train,Y_test = train_test_split(X,Y,test_size=0.4)\n",
    "\n",
    "    clf = GaussianNB().fit(X_train,Y_train)   ###高斯贝叶斯分类器\n",
    "\n",
    "    Y_pred = clf.predict(X_test)\n",
    "    score = np.mean(Y_pred==Y_test)\n",
    "    print(\"score=\",score)\n",
    "main()"
   ]
  }
 ],
 "metadata": {
  "kernelspec": {
   "display_name": "Python 3",
   "language": "python",
   "name": "python3"
  },
  "language_info": {
   "codemirror_mode": {
    "name": "ipython",
    "version": 3
   },
   "file_extension": ".py",
   "mimetype": "text/x-python",
   "name": "python",
   "nbconvert_exporter": "python",
   "pygments_lexer": "ipython3",
   "version": "3.5.2"
  }
 },
 "nbformat": 4,
 "nbformat_minor": 2
}
