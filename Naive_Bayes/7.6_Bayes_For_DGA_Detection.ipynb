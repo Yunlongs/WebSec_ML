{
 "cells": [
  {
   "cell_type": "markdown",
   "metadata": {},
   "source": [
    "# Web安全之机器学习\n",
    "## 第7章 朴素贝叶斯算法\n",
    "### 7.6 检测DGA域名\n",
    "域名生成算法（Domain Generation algorithm）僵尸网络赖以生存的关键武器，在这部分，我们就来使用贝叶斯算法来检测DGA域名。\n",
    "\n",
    "#### 1.数据搜集和数据清洗\n",
    "加载alexa前1000的域名作为白样本，标记为0；cryptolocker和post-tovar-goz的样本作为黑样本，标记1，2.\n"
   ]
  },
  {
   "cell_type": "code",
   "execution_count": 1,
   "metadata": {
    "collapsed": true
   },
   "outputs": [],
   "source": [
    "from sklearn.naive_bayes import GaussianNB\n",
    "from sklearn.model_selection import cross_val_score\n",
    "from sklearn.feature_extraction.text import CountVectorizer"
   ]
  },
  {
   "cell_type": "code",
   "execution_count": 2,
   "metadata": {
    "collapsed": true
   },
   "outputs": [],
   "source": [
    "def load_alexa(filename):\n",
    "    x = []\n",
    "    with open(filename,'r') as f:\n",
    "        for line in f.readlines():\n",
    "            x.append(line.strip().split(',')[1])\n",
    "    return x\n",
    "def load_dga(file_crypto,file_post):\n",
    "    x1 = []\n",
    "    x2 = []\n",
    "    with open(file_crypto,'r') as f:\n",
    "        for line in f.readlines():\n",
    "            x1.append(line.strip().split(',')[0])\n",
    "    with open(file_post,'r') as f:\n",
    "        for line in f.readlines():\n",
    "            x2.append(line.strip().split(',')[0])\n",
    "    return x1,x2"
   ]
  },
  {
   "cell_type": "markdown",
   "metadata": {},
   "source": [
    "#### 2. 特征化和训练数据\n",
    "使用2-gram处理每一个DGA域名，切割单元为字符。使用白域名和黑域名的整个2-gram的结果作为词汇表，进行向量化。"
   ]
  },
  {
   "cell_type": "code",
   "execution_count": 3,
   "metadata": {},
   "outputs": [
    {
     "name": "stdout",
     "output_type": "stream",
     "text": [
      "score= [ 0.8742515   0.89289289  0.81581582]\n"
     ]
    }
   ],
   "source": [
    "def get_feature(file_alexa,file_crypto,file_post):\n",
    "    x1 = load_alexa(file_alexa)\n",
    "    x2,x3 = load_dga(file_crypto,file_post)\n",
    "    y1 = [0]*len(x1)\n",
    "    y2 = [1]*len(x2)\n",
    "    y3 = [2]*len(x3)\n",
    "    x = x1+x2+x3\n",
    "    y = y1+y2+y3\n",
    "\n",
    "    cv = CountVectorizer(ngram_range=(2,2),decode_error='ignore',token_pattern=r'\\w',min_df=1)\n",
    "    X = cv.fit_transform(x).toarray()\n",
    "\n",
    "    clf = GaussianNB()\n",
    "\n",
    "    score = cross_val_score(clf,X,y,cv=3)\n",
    "    print(\"score=\",score)\n",
    "get_feature(\"../data/dga/test-top-1000.csv\",\"../data/dga/dga-cryptolocke-1000.txt\",\"../data/dga/dga-post-tovar-goz-1000.txt\")"
   ]
  }
 ],
 "metadata": {
  "kernelspec": {
   "display_name": "Python 3",
   "language": "python",
   "name": "python3"
  },
  "language_info": {
   "codemirror_mode": {
    "name": "ipython",
    "version": 3
   },
   "file_extension": ".py",
   "mimetype": "text/x-python",
   "name": "python",
   "nbconvert_exporter": "python",
   "pygments_lexer": "ipython3",
   "version": "3.5.2"
  }
 },
 "nbformat": 4,
 "nbformat_minor": 2
}
