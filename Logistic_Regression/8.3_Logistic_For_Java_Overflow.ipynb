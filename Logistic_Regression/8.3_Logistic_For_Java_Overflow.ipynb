{
 "cells": [
  {
   "cell_type": "markdown",
   "metadata": {
    "collapsed": true
   },
   "source": [
    "# Web安全之机器学习\n",
    "## 第8章 逻辑回归算法\n",
    "### 8.3 示例：使用逻辑回归算法检测Java溢出攻击\n",
    "\n",
    "#### 1. 数据搜集和数据清洗\n",
    "这次我们仍然使用ADFA-LD数据集，不过只使用其中攻击数据集中的JAVA溢出攻击的相关数据。"
   ]
  },
  {
   "cell_type": "code",
   "execution_count": 1,
   "metadata": {
    "collapsed": true
   },
   "outputs": [],
   "source": [
    "import os\n",
    "import re\n",
    "from sklearn.feature_extraction.text import CountVectorizer\n",
    "from sklearn.linear_model import LogisticRegression\n",
    "from sklearn.model_selection import cross_val_score\n",
    "\n",
    "def load_normal_data(rootdir):\n",
    "    file_list = os.listdir(rootdir)\n",
    "    x = []\n",
    "    for file in file_list:\n",
    "        cmd = \"\"\n",
    "        path = os.path.join(rootdir,file)\n",
    "        with open(path,'r') as f:\n",
    "            for line in f.readlines():\n",
    "                cmd += line.strip()\n",
    "        x.append(cmd)\n",
    "    return x\n",
    "\n",
    "def load_attack_data(rootdir):\n",
    "    x = []\n",
    "    file_list = os.listdir(rootdir)\n",
    "    for file in file_list:\n",
    "        dir_path = os.path.join(rootdir,file)\n",
    "        if os.path.isdir(dir_path):\n",
    "            pattern = re.compile(\"../data/ADFA-LD/Attack_Data_Master/Java_Meterpreter_\\d+\")\n",
    "            if re.match(pattern,dir_path):\n",
    "                dir_path += \"/\"\n",
    "                x += load_attack_data(dir_path)\n",
    "        else :\n",
    "            with open(dir_path,'r') as f:\n",
    "                x.append(f.read().strip())\n",
    "    return x"
   ]
  },
  {
   "cell_type": "markdown",
   "metadata": {},
   "source": [
    "#### 2.特征化\n",
    "使用词集模型进行向量化"
   ]
  },
  {
   "cell_type": "code",
   "execution_count": 2,
   "metadata": {
    "collapsed": true
   },
   "outputs": [],
   "source": [
    "def get_feature():\n",
    "    x1 = load_normal_data(\"../data/ADFA-LD/Training_Data_Master/\")\n",
    "    x2 = load_attack_data(\"../data/ADFA-LD/Attack_Data_Master/\")\n",
    "    x = x1+x2\n",
    "    y = [0]*len(x1)+[1]*len(x2)\n",
    "\n",
    "    cv = CountVectorizer(decode_error='ignore',min_df=1)\n",
    "    X = cv.fit_transform(x).toarray()\n",
    "    return X,y"
   ]
  },
  {
   "cell_type": "markdown",
   "metadata": {},
   "source": [
    "#### 3.训练样本和效果验证"
   ]
  },
  {
   "cell_type": "code",
   "execution_count": 3,
   "metadata": {},
   "outputs": [
    {
     "name": "stdout",
     "output_type": "stream",
     "text": [
      "score= [ 0.92783505  0.94845361  0.95876289  0.90625     0.96842105  0.77894737\n",
      "  0.95789474  0.95789474  0.96842105  0.94736842]\n"
     ]
    }
   ],
   "source": [
    "def main():\n",
    "    X,Y = get_feature()\n",
    "\n",
    "    clf = LogisticRegression(C=1e5)\n",
    "\n",
    "    score = cross_val_score(clf,X,Y,cv=10)\n",
    "    print(\"score=\",score)\n",
    "main()"
   ]
  },
  {
   "cell_type": "code",
   "execution_count": null,
   "metadata": {
    "collapsed": true
   },
   "outputs": [],
   "source": []
  }
 ],
 "metadata": {
  "kernelspec": {
   "display_name": "Python 3",
   "language": "python",
   "name": "python3"
  },
  "language_info": {
   "codemirror_mode": {
    "name": "ipython",
    "version": 3
   },
   "file_extension": ".py",
   "mimetype": "text/x-python",
   "name": "python",
   "nbconvert_exporter": "python",
   "pygments_lexer": "ipython3",
   "version": "3.5.2"
  }
 },
 "nbformat": 4,
 "nbformat_minor": 2
}
