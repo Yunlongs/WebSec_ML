{
 "cells": [
  {
   "cell_type": "markdown",
   "metadata": {},
   "source": [
    "# Web安全之机器学习\n",
    "## 第5章  K近邻算法\n",
    "### 5.5 示例：使用K近邻算法检测Rootkit\n",
    "[KDD99数据集](http://kdd.ics.uci.edu/databases/kddcup99/kddcup99.html)的描述见书本第三章。\n",
    "其中与Rootkit有关的特征为第10到21个特征值。\n",
    "\n",
    "#### 1. 数据收集与数据清洗\n",
    "挑选出是tennet协议，且标记为Rootkit和normal的数据集。"
   ]
  },
  {
   "cell_type": "code",
   "execution_count": 1,
   "metadata": {
    "collapsed": true
   },
   "outputs": [],
   "source": [
    "import numpy as np\n",
    "from sklearn.neighbors import KNeighborsClassifier\n",
    "from sklearn.model_selection import cross_val_score"
   ]
  },
  {
   "cell_type": "code",
   "execution_count": 2,
   "metadata": {
    "collapsed": true
   },
   "outputs": [],
   "source": [
    "def get_data():\n",
    "    x = []\n",
    "    Y = []\n",
    "    with open(\"../data/kddcup.data_10_percent_corrected\") as f:\n",
    "        for line in f.readlines():\n",
    "            line = line.strip().split(',')\n",
    "            if line[2] == 'telnet' and line[41] in['rootkit.','normal.']:\n",
    "                x.append(line)\n",
    "                if line[41] == 'rootkit.':\n",
    "                    Y.append(1)\n",
    "                else:\n",
    "                    Y.append(0)\n",
    "    return x,Y"
   ]
  },
  {
   "cell_type": "markdown",
   "metadata": {},
   "source": [
    "#### 2.特征化\n",
    "仅保留筛选后的样本，第10到第21个之间的作为特征。"
   ]
  },
  {
   "cell_type": "code",
   "execution_count": 3,
   "metadata": {
    "collapsed": true
   },
   "outputs": [],
   "source": [
    "def get_feature(x):\n",
    "    X = np.array(x)\n",
    "    X = X[:,9:21]\n",
    "    return X"
   ]
  },
  {
   "cell_type": "markdown",
   "metadata": {},
   "source": [
    "#### 3.训练样本和效果验证"
   ]
  },
  {
   "cell_type": "code",
   "execution_count": 4,
   "metadata": {},
   "outputs": [
    {
     "name": "stdout",
     "output_type": "stream",
     "text": [
      "[ 0.95652174  0.95652174  0.95652174  1.          0.95652174  1.          1.\n",
      "  1.          1.          1.        ]\n"
     ]
    },
    {
     "name": "stderr",
     "output_type": "stream",
     "text": [
      "D:\\Program Files\\Envs\\Anaconda\\envs\\tensorflow\\lib\\site-packages\\sklearn\\model_selection\\_split.py:597: Warning: The least populated class in y has only 5 members, which is too few. The minimum number of members in any class cannot be less than n_splits=10.\n",
      "  % (min_groups, self.n_splits)), Warning)\n"
     ]
    }
   ],
   "source": [
    "def KNN_train_1():\n",
    "    x,Y = get_data()\n",
    "    X = get_feature(x)\n",
    "\n",
    "    neigh = KNeighborsClassifier(n_neighbors=3)\n",
    "\n",
    "    score = cross_val_score(neigh,X,Y,cv=10)\n",
    "    print(score)\n",
    "KNN_train_1()"
   ]
  }
 ],
 "metadata": {
  "kernelspec": {
   "display_name": "Python 3",
   "language": "python",
   "name": "python3"
  },
  "language_info": {
   "codemirror_mode": {
    "name": "ipython",
    "version": 3
   },
   "file_extension": ".py",
   "mimetype": "text/x-python",
   "name": "python",
   "nbconvert_exporter": "python",
   "pygments_lexer": "ipython3",
   "version": "3.5.2"
  }
 },
 "nbformat": 4,
 "nbformat_minor": 2
}
