{
 "cells": [
  {
   "cell_type": "markdown",
   "metadata": {},
   "source": [
    "# Web安全之机器学习\n",
    "## 第5章 K近邻算法\n",
    "### 5.4 示例：使用K近邻算法检测异常操作（二）\n",
    "\n",
    "**在5.3中，我们只使用了最频繁和最不频繁的操作命令当做特征，为了达到更高的准确度，我们这次将尝试使用全部的操作命令作为特征。**\n",
    "#### 1. 数据搜集和数据清洗\n",
    "我们将全部命令去重后，每个命令当做一个特征，形成一个大型空间向量。"
   ]
  },
  {
   "cell_type": "code",
   "execution_count": 1,
   "metadata": {
    "collapsed": true
   },
   "outputs": [],
   "source": [
    "from nltk.probability import FreqDist\n",
    "import numpy as  np\n",
    "from sklearn.neighbors import KNeighborsClassifier\n",
    "from sklearn.model_selection import train_test_split,cross_val_score"
   ]
  },
  {
   "cell_type": "code",
   "execution_count": 2,
   "metadata": {
    "collapsed": true
   },
   "outputs": [],
   "source": [
    "def convert_to_cmdlist_new(filename):\n",
    "    cmd_list = []\n",
    "    dist = []\n",
    "    with open(filename) as f:\n",
    "        x = []\n",
    "        for i, line in enumerate(f.readlines()):\n",
    "            x.append(line.strip())\n",
    "            dist.append(line.strip())\n",
    "            if i % 100 == 0:\n",
    "                cmd_list.append(x)\n",
    "                x = []\n",
    "    return cmd_list,list(set(dist))"
   ]
  },
  {
   "cell_type": "markdown",
   "metadata": {},
   "source": [
    "#### 2.特征化\n",
    "形成m个命令序列和n个特征的$m \\times n$维特征空间向量"
   ]
  },
  {
   "cell_type": "code",
   "execution_count": 3,
   "metadata": {
    "collapsed": true
   },
   "outputs": [],
   "source": [
    "def get_feature_new(cmd_list,dist):\n",
    "    matrix = np.zeros((len(cmd_list),len(dist)))\n",
    "    for i,cmd in enumerate(cmd_list):\n",
    "        for j,x in enumerate(dist):\n",
    "            if x in cmd:\n",
    "                matrix[i,j] += 1\n",
    "    return matrix\n",
    "def get_label():\n",
    "    return np.loadtxt(\"data/masquerade/label.txt\")"
   ]
  },
  {
   "cell_type": "markdown",
   "metadata": {},
   "source": [
    "#### 3.训练模型\n",
    "scikit-learn 包中的[train_tset_split](https://scikit-learn.org/stable/modules/generated/sklearn.model_selection.train_test_split.html#sklearn.model_selection.train_test_split)辅助函数可以很快地将实验数据集划分为任何训练集（training sets）和测试集（test sets）。\n",
    "其参数如下：\n",
    "train_test_split(X,Y,test_size=0.25,train_size,random_state,shuffle,stratify)"
   ]
  },
  {
   "cell_type": "code",
   "execution_count": null,
   "metadata": {
    "collapsed": true
   },
   "outputs": [],
   "source": []
  },
  {
   "cell_type": "markdown",
   "metadata": {},
   "source": [
    "#### 4.效果验证\n",
    "这里使用交叉验证，10次随机取样和验证，提高验证可信度。\n",
    "\n",
    "使用交叉验证最简单的方法是在估计器和数据集上调用 [cross_val_score](https://scikit-learn.org/stable/modules/generated/sklearn.model_selection.cross_val_score.html#sklearn.model_selection.cross_val_score) 辅助函数。\n",
    "\n",
    "`cross_val_score(estimator, X, y=None, groups=None, scoring=None, cv=’warn’, n_jobs=None, verbose=0, fit_params=None, pre_dispatch=‘2*n_jobs’, error_score=’raise-deprecating’)`\n",
    "\n",
    "- estimator：所使用的估计器，用来实施拟合\n",
    "- groups：样本的组标签尽在划分数据集到train/test时使用，仅能够和一个‘group’cv实例一起使用\n",
    "- scoring：评分标准。\n",
    "- cv：使用几重交叉验证。默认3重。\n",
    "- n_jobs：计算所使用的CPU数。默认为1，-1为使用所有处理器。\n",
    "- fit_params：估计器所使用到的参数。\n",
    "- pre_dispatch：控制在并行执行期间分派的作业数。减少此数量可有助于避免在分配的作业多于CPU可处理的内容时消耗内存消耗。\n",
    "- error_score：当估计器在拟合的过程中出现问题时，返回的分数。\n"
   ]
  },
  {
   "cell_type": "code",
   "execution_count": 4,
   "metadata": {},
   "outputs": [
    {
     "name": "stdout",
     "output_type": "stream",
     "text": [
      "[ 0.9375      1.          0.93333333  1.          1.          1.          1.\n",
      "  1.          1.          1.        ]\n"
     ]
    }
   ],
   "source": [
    "def KNN_train_2():\n",
    "    N=90\n",
    "    cmd_list,dist = convert_to_cmdlist_new(\"data/masquerade/User3\")\n",
    "    X = get_feature_new(cmd_list,dist)\n",
    "    Y = get_label()\n",
    "    Y = np.vstack((np.zeros((50, 1)), Y[:, 2].reshape(Y.shape[0], 1)))\n",
    "\n",
    "    neigh = KNeighborsClassifier(n_neighbors=3)\n",
    "    score = cross_val_score(neigh,X,Y.ravel(),cv=10,n_jobs=1)\n",
    "    print(score)\n",
    "KNN_train_2()"
   ]
  },
  {
   "cell_type": "code",
   "execution_count": null,
   "metadata": {
    "collapsed": true
   },
   "outputs": [],
   "source": []
  }
 ],
 "metadata": {
  "kernelspec": {
   "display_name": "Python 3",
   "language": "python",
   "name": "python3"
  },
  "language_info": {
   "codemirror_mode": {
    "name": "ipython",
    "version": 3
   },
   "file_extension": ".py",
   "mimetype": "text/x-python",
   "name": "python",
   "nbconvert_exporter": "python",
   "pygments_lexer": "ipython3",
   "version": "3.5.2"
  }
 },
 "nbformat": 4,
 "nbformat_minor": 2
}
