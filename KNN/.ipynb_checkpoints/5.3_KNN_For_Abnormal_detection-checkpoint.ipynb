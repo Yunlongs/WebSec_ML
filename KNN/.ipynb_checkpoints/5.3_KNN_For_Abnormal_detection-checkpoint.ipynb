{
 "cells": [
  {
   "cell_type": "markdown",
   "metadata": {},
   "source": [
    "# Web安全之机器学习\n",
    "## 第5章 K近邻算法\n",
    "### 5.3 示例：使用K近邻算法检测异常操作（一）\n",
    "\n",
    "#### 1. 数据收集和数据清洗\n",
    "训练数据中包括50个用户的Linux系统的操作日志，每个日志中包含15000条操作命令，其中前5000条都是正常操作，后面的10000条中随机包含有异常操作。为了便于分析，数据集每100条操作作为一个操作序列，同时进行了标注，每个操作序列只要有1条操作异常就认为这个操作序列异常。\n",
    "\n",
    "（1）首先，依次读取每行操作命令，每100个命令组成一个操作序列，保存在列表里面。\n",
    "（2）统计出现**最频繁**使用的前50个命令和**最不频繁**使用的前50个命令"
   ]
  },
  {
   "cell_type": "code",
   "execution_count": 1,
   "metadata": {
    "collapsed": true
   },
   "outputs": [],
   "source": [
    "from nltk.probability import FreqDist\n",
    "import numpy as  np\n",
    "from sklearn.neighbors import KNeighborsClassifier"
   ]
  },
  {
   "cell_type": "code",
   "execution_count": 2,
   "metadata": {
    "collapsed": true
   },
   "outputs": [],
   "source": [
    "def convert_to_cmdlist(filename):\n",
    "    cmd_list =[]\n",
    "    dist = []\n",
    "    with open(filename) as f:\n",
    "        x = []\n",
    "        for i,line in enumerate(f.readlines()):\n",
    "            x.append(line.strip())\n",
    "            dist.append(line.strip())\n",
    "            if i%100 == 0:\n",
    "                cmd_list.append(x)\n",
    "                x = []\n",
    "    fdist = list(FreqDist(dist).keys())\n",
    "    dist_max50 = set(fdist[:50])  ### 最频繁的50个命令\n",
    "    dist_min50 = set(fdist[-50:]) ### 最不频繁的50个命令\n",
    "    return cmd_list,dist_max50,dist_min50"
   ]
  },
  {
   "cell_type": "markdown",
   "metadata": {},
   "source": [
    "#### 2. 特征化\n",
    "从每一个操作序列中提取**三个特征值**，分别为：\n",
    "\n",
    "（1）去重后的操作命令的个数\n",
    "\n",
    "（2）当前序列最频繁使用的10个命令与该用户最频繁使用的50个命令之间重复的个数\n",
    "\n",
    "（3）当前序列最不频繁使用的10个命令与该用户最不频繁使用的50个命令之间重复的个数"
   ]
  },
  {
   "cell_type": "code",
   "execution_count": 3,
   "metadata": {
    "collapsed": true
   },
   "outputs": [],
   "source": [
    "def get_feature(cmd_list,dist_max50,dist_min50):\n",
    "    x = []\n",
    "    for cmd in cmd_list:\n",
    "        f1 = len(set(cmd))              ### 特征（1）\n",
    "        f2 = list(FreqDist(cmd).keys())[:10]\n",
    "        f3 = list(FreqDist(cmd).keys())[-10:]\n",
    "        f2 = len(set(f2) & dist_max50)  ###特征（2）\n",
    "        f3 = len(set(f3) & dist_min50)  ###特征（3）\n",
    "        f = [f1,f2,f3]\n",
    "        x.append(f)\n",
    "    return x"
   ]
  },
  {
   "cell_type": "markdown",
   "metadata": {},
   "source": [
    "#### 3.读取标签\n",
    "标签文件为$100 \\times 50$的矩阵，100行代表着后100个随机序列的，50列代表着50个用户。值为0代表正常序列，值为1代表异常序列"
   ]
  },
  {
   "cell_type": "code",
   "execution_count": 4,
   "metadata": {
    "collapsed": true
   },
   "outputs": [],
   "source": [
    "def get_label():\n",
    "    return np.loadtxt(\"data/masquerade/label.txt\")"
   ]
  },
  {
   "cell_type": "markdown",
   "metadata": {},
   "source": [
    "#### 4.训练模型\n",
    "加载user3的操作数据，并将前90个操作序列作为训练序列，后60个序列作为测试序列。"
   ]
  },
  {
   "cell_type": "code",
   "execution_count": 5,
   "metadata": {},
   "outputs": [
    {
     "name": "stdout",
     "output_type": "stream",
     "text": [
      "score =  83.3333333333\n"
     ]
    }
   ],
   "source": [
    "def KNN_train():\n",
    "    N = 90\n",
    "    cmd_list,dist_max50,dist_min50 = convert_to_cmdlist(\"data/masquerade/User3\")\n",
    "    X = get_feature(cmd_list,dist_max50,dist_min50)\n",
    "    Y = get_label()\n",
    "    Y = np.vstack((np.zeros((50,1)),Y[:,2].reshape(Y.shape[0],1)))  ##样本分割\n",
    "    X_train = X[:N]\n",
    "    X_test = X[N:]\n",
    "    Y_train = Y[:N].ravel()\n",
    "    Y_test = Y[N:].ravel()\n",
    "\n",
    "    neigh = KNeighborsClassifier(n_neighbors=3)\n",
    "    neigh.fit(X_train,Y_train)\n",
    "    Y_pred = neigh.predict(X_test)\n",
    "\n",
    "    score = np.mean(Y_test==Y_pred) *100\n",
    "    print(\"score = \",score)\n",
    "KNN_train()"
   ]
  },
  {
   "cell_type": "code",
   "execution_count": null,
   "metadata": {
    "collapsed": true
   },
   "outputs": [],
   "source": []
  }
 ],
 "metadata": {
  "kernelspec": {
   "display_name": "Python 3",
   "language": "python",
   "name": "python3"
  },
  "language_info": {
   "codemirror_mode": {
    "name": "ipython",
    "version": 3
   },
   "file_extension": ".py",
   "mimetype": "text/x-python",
   "name": "python",
   "nbconvert_exporter": "python",
   "pygments_lexer": "ipython3",
   "version": "3.5.2"
  }
 },
 "nbformat": 4,
 "nbformat_minor": 2
}
