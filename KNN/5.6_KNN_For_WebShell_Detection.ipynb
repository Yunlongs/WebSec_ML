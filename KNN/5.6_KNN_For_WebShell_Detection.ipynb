{
 "cells": [
  {
   "cell_type": "markdown",
   "metadata": {},
   "source": [
    "# Web安全之机器学习\n",
    "## 第5章 K近邻算法\n",
    "### 5.6 示例：使用K近邻算法检测WebShell\n",
    "\n",
    "#### 1.数据收集和数据清洗\n",
    "使用的数据集为ADFA-LD主机级入侵检测系统的数据集，记录了系统的调用数据。数据分为三类：“Train_data”、“Attack_data”、“Validation_data”。\n",
    "\n",
    "我们将使用“Train_data”、“Attack_data”用来训练，其中“Train_data”的标签为正常，“Attack_data”的标签为异常。\n",
    "\n",
    "每一个样本里，为一系列的系统调用的编号组成的调用序列。\n",
    "\n",
    "首先（1）加载ADFA-LD中正常样本的数据。"
   ]
  },
  {
   "cell_type": "code",
   "execution_count": 1,
   "metadata": {
    "collapsed": true
   },
   "outputs": [],
   "source": [
    "import os\n",
    "import re\n",
    "from sklearn.feature_extraction.text import CountVectorizer\n",
    "from sklearn.neighbors import KNeighborsClassifier\n",
    "from sklearn.model_selection import cross_val_score"
   ]
  },
  {
   "cell_type": "code",
   "execution_count": 2,
   "metadata": {
    "collapsed": true
   },
   "outputs": [],
   "source": [
    "def get_noranl_data(rootdir):\n",
    "    file_list = os.listdir(rootdir)\n",
    "    x = []\n",
    "    y =[]\n",
    "    for file in file_list:\n",
    "        file_path = os.path.join(rootdir,file)\n",
    "        if os.path.isfile(file_path):\n",
    "            with open(file_path,'r') as f:\n",
    "                x.append(f.read())\n",
    "                y.append(0)\n",
    "    return x,y"
   ]
  },
  {
   "cell_type": "markdown",
   "metadata": {},
   "source": [
    "（2）遍历指定文件下的目录"
   ]
  },
  {
   "cell_type": "code",
   "execution_count": 3,
   "metadata": {
    "collapsed": true
   },
   "outputs": [],
   "source": [
    "def dirlist(rootdir):\n",
    "    all_file = []\n",
    "    path_list = os.listdir(rootdir)\n",
    "    for path in path_list:\n",
    "        file_path = os.path.join(rootdir,path)\n",
    "        if os.path.isdir(file_path):\n",
    "            file_path += '/'\n",
    "            all_file += dirlist(file_path)\n",
    "        else:\n",
    "            all_file.append(file_path)\n",
    "    return all_file"
   ]
  },
  {
   "cell_type": "markdown",
   "metadata": {},
   "source": [
    "（3）从攻击数据集中筛选出和WebShell相关的数据"
   ]
  },
  {
   "cell_type": "code",
   "execution_count": 4,
   "metadata": {
    "collapsed": true
   },
   "outputs": [],
   "source": [
    "def get_attack_data(rootdir):\n",
    "    all_file = dirlist(rootdir)\n",
    "    x = []\n",
    "    y =[]\n",
    "    for file in all_file:\n",
    "        pattern = re.compile(\"../data/ADFA-LD/Attack_Data_Master/Web_Shell_\\d+/UAD-W*\")\n",
    "        if re.match(pattern,file):\n",
    "            with open(file,'r') as f:\n",
    "                x.append(f.read())\n",
    "                y.append(1)\n",
    "    return x,y"
   ]
  },
  {
   "cell_type": "markdown",
   "metadata": {},
   "source": [
    "#### 2.特征化\n",
    "现在我们获得的每个样本，均为一系列的系统调用编号，有长有短，这里我们可以使用词集模型将其特征化。"
   ]
  },
  {
   "cell_type": "code",
   "execution_count": 5,
   "metadata": {
    "collapsed": true
   },
   "outputs": [],
   "source": [
    "def get_feature():\n",
    "    x1,y1 = get_noranl_data(\"../data/ADFA-LD/Training_Data_Master/\")\n",
    "    x2,y2 = get_attack_data(\"../data/ADFA-LD/Attack_Data_Master/\")\n",
    "    x = x1+x2\n",
    "    Y = y1+y2\n",
    "\n",
    "    vectorizer = CountVectorizer(min_df=1)  ###将词集向量化\n",
    "    X = vectorizer.fit_transform(x)\n",
    "    return X,Y\n"
   ]
  },
  {
   "cell_type": "markdown",
   "metadata": {},
   "source": [
    "#### 3.训练样本和交叉验证"
   ]
  },
  {
   "cell_type": "code",
   "execution_count": 6,
   "metadata": {},
   "outputs": [
    {
     "name": "stdout",
     "output_type": "stream",
     "text": [
      "[ 0.95833333  0.94791667  0.97916667  0.96842105  0.96842105  0.84210526\n",
      "  0.97894737  0.98947368  0.9787234   0.9787234 ]\n"
     ]
    }
   ],
   "source": [
    "def main():\n",
    "    X,Y = get_feature()\n",
    "    neigh = KNeighborsClassifier(n_neighbors=3)\n",
    "    score = cross_val_score(neigh,X,Y,cv=10,n_jobs=1)\n",
    "    print(score)\n",
    "main()"
   ]
  }
 ],
 "metadata": {
  "kernelspec": {
   "display_name": "Python 3",
   "language": "python",
   "name": "python3"
  },
  "language_info": {
   "codemirror_mode": {
    "name": "ipython",
    "version": 3
   },
   "file_extension": ".py",
   "mimetype": "text/x-python",
   "name": "python",
   "nbconvert_exporter": "python",
   "pygments_lexer": "ipython3",
   "version": "3.5.2"
  }
 },
 "nbformat": 4,
 "nbformat_minor": 2
}
