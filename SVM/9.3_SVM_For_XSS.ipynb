{
 "cells": [
  {
   "cell_type": "markdown",
   "metadata": {},
   "source": [
    "# Web安全之机器学习\n",
    "## 第9章 支持向量机算法\n",
    "### 9.3 示例：使用支持向量机算法识别XSS\n",
    "\n",
    "#### 1. 收据搜集和数据清洗\n",
    "这里使用作者提供的使用WVS等扫描器扫出的的XSS攻击的Web日志。"
   ]
  },
  {
   "cell_type": "code",
   "execution_count": 1,
   "metadata": {
    "collapsed": true
   },
   "outputs": [],
   "source": [
    "import re\n",
    "import numpy as np\n",
    "from sklearn.preprocessing import MinMaxScaler\n",
    "from sklearn.model_selection import train_test_split\n",
    "from  sklearn.svm import SVC"
   ]
  },
  {
   "cell_type": "markdown",
   "metadata": {},
   "source": [
    "#### 2. 特征提取\n",
    "\n",
    "我们需要就我们所获得XSS日志来提取一些特征，目前我们可以将**XSS的web日志特征划分为**：\n",
    "\n",
    " - url 长度\n",
    " - url中包含第三方域名的个数\n",
    " - 敏感字符的个数\n",
    " - 敏感关键词的个数\n",
    " \n",
    "下面就这4个方面进行特征提取。"
   ]
  },
  {
   "cell_type": "code",
   "execution_count": 2,
   "metadata": {
    "collapsed": true
   },
   "outputs": [],
   "source": [
    "def get_len(url):\n",
    "    return len(url)\n",
    "\n",
    "def get_url_count(url):\n",
    "    pattern = re.compile('(https://)|(http://)',re.IGNORECASE)\n",
    "    if re.search(pattern,url):\n",
    "        return 1\n",
    "    else:\n",
    "        return 0\n",
    "\n",
    "def get_evil_char(url):\n",
    "    pattern = re.compile(\"[<>,\\'\\\"/]\",re.IGNORECASE)\n",
    "    return len(re.findall(pattern,url))\n",
    "\n",
    "def get_evil_word(url):\n",
    "    pattern = re.compile(\"(alert)|(script=)|(%3c)|(%3e)|(%20)|(onerror)|(onload)|(eval)|(src=)|(prompt)\",re.IGNORECASE)\n",
    "    return len(re.findall(pattern,url))\n"
   ]
  },
  {
   "cell_type": "markdown",
   "metadata": {},
   "source": [
    "#### 3. 特征化\n",
    "\n",
    "其中涉及到数据的预处理，需要品恒特征之间的影响力。常见的方式有：\n",
    "\n",
    "- 标准化\n",
    "- 均方差缩放\n",
    "- 去均值\n",
    "\n",
    ">https://sklearn.apachecn.org/docs/0.21.3/40.html\n"
   ]
  },
  {
   "cell_type": "code",
   "execution_count": 3,
   "metadata": {
    "collapsed": true
   },
   "outputs": [],
   "source": [
    "def load_data(filename):\n",
    "    x = []\n",
    "    with open(filename,'r',encoding='utf-8') as f:\n",
    "        for line in f.readlines():\n",
    "            x.append(line.strip())\n",
    "    return x\n",
    "\n",
    "def get_feature():\n",
    "    x1 = load_data(\"../data/web-attack/xss-200000.txt\")\n",
    "    x2 = load_data(\"../data/web-attack/normal-10000.txt\")\n",
    "    x = x1+x2\n",
    "    X = np.zeros((len(x),4))\n",
    "    for i,url in enumerate(x):\n",
    "        X[i,0] = get_len(url)\n",
    "        X[i,1] = get_url_count(url)\n",
    "        X[i,2] = get_evil_char(url)\n",
    "        X [i,3] = get_evil_word(url)\n",
    "\n",
    "    ### 标准化数据特征\n",
    "    min_max_scaler = MinMaxScaler()\n",
    "    X = min_max_scaler.fit_transform(X)\n",
    "\n",
    "    Y = [1]*len(x1)+[0]*len(x2)\n",
    "\n",
    "    return X,Y"
   ]
  },
  {
   "cell_type": "markdown",
   "metadata": {},
   "source": [
    "#### 4.模型训练和效果验证"
   ]
  },
  {
   "cell_type": "code",
   "execution_count": 4,
   "metadata": {},
   "outputs": [
    {
     "name": "stdout",
     "output_type": "stream",
     "text": [
      "score= 93.1096196868\n"
     ]
    }
   ],
   "source": [
    "def main():\n",
    "    X,Y = get_feature()\n",
    "    X_train,X_test,Y_train,Y_test = train_test_split(X,Y,test_size=0.4,random_state=0)\n",
    "\n",
    "    clf = SVC(kernel='linear')\n",
    "    clf.fit(X_train,Y_train)\n",
    "    Y_pred = clf.predict(X_test)\n",
    "    score = np.mean(Y_pred == Y_test)*100\n",
    "    print(\"score=\",score)\n",
    "main()"
   ]
  }
 ],
 "metadata": {
  "kernelspec": {
   "display_name": "Python 3",
   "language": "python",
   "name": "python3"
  },
  "language_info": {
   "codemirror_mode": {
    "name": "ipython",
    "version": 3
   },
   "file_extension": ".py",
   "mimetype": "text/x-python",
   "name": "python",
   "nbconvert_exporter": "python",
   "pygments_lexer": "ipython3",
   "version": "3.5.2"
  }
 },
 "nbformat": 4,
 "nbformat_minor": 2
}
