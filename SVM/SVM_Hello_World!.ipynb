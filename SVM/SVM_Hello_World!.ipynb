{
 "cells": [
  {
   "cell_type": "markdown",
   "metadata": {},
   "source": [
    "# Web安全之机器学习\n",
    "## 第9章 支持向量机算法\n",
    "### 9.1 SVM原理简介\n",
    "当给定数据集的时候，**SVM的优化目标函数如下：**\n",
    "![](https://yunlongs-1253041399.cos.ap-chengdu.myqcloud.com/image/Stanford/lecture-8-12.jpg)\n",
    "\n",
    "**其对偶形式如下：**\n",
    "![](https://yunlongs-1253041399.cos.ap-chengdu.myqcloud.com/image/Stanford/lecture-8-14.jpg)\n",
    "\n",
    "**通过SMO算法学习得到参数$\\alpha$后，预测公式如下：**\n",
    "![](https://yunlongs-1253041399.cos.ap-chengdu.myqcloud.com/image/Stanford/lecture-7-27.jpg)"
   ]
  },
  {
   "cell_type": "markdown",
   "metadata": {},
   "source": [
    "### 9.2 Hello World!SVM\n",
    "\n",
    "**SVM函数申明如下：**\n",
    ">https://scikit-learn.org/stable/modules/generated/sklearn.svm.SVC.html#sklearn.svm.SVC\n",
    "\n",
    "```sklearn.svm.SVC(C=1.0, kernel=’rbf’, degree=3, gamma=’auto_deprecated’, coef0=0.0, shrinking=True, probability=False, tol=0.001, cache_size=200, class_weight=None, verbose=False, max_iter=-1, decision_function_shape=’ovr’, random_state=None)```\n",
    "\n",
    "**参数：**\n",
    "- C : 错误项的惩罚参数。默认1.0\n",
    "- kernel：选择的核函数，为‘linear’, ‘poly’, ‘rbf’, ‘sigmoid’, ‘precomputed’ or a callable中的一个，默认'rbf'。\n",
    "- degree：核函数‘poly’多项式的度。\n",
    "- gamma： ‘rbf’, ‘poly’ and ‘sigmoid’核函数的系数。'auto'为1 / n_features, ，‘scale’为1 / (n_features * X.var()) 。(default=’auto’)\n",
    "- coef0：核函数的插入项。仅在 ‘poly’ and ‘sigmoid’起作用。(default=0.0)\n",
    "- shrinking：是否适用收缩时启发。 (default=True)\n",
    "- probability：是否启用概率估计。(default=False)\n",
    "- tol：停止迭代的容忍参数。(default=1e-3)\n",
    "- cache_size：明确Kernel的缓冲大小。\n",
    "- class_weight ：每一个分类的权重。\n",
    "- verbose：是否显示输出过程\n",
    "- max_iter：最大迭代的次数。(default=-1)无限制\n",
    "- decision_function_shape\n",
    "- random_state :打乱样本所使用的伪随机数发生器。\n",
    "\n",
    "**属性：**\n",
    "- support_：支持向量的索引\n",
    "- support_vectors_：支持向量\n",
    "- n_support_：每一类支持向量的个数\n",
    "- dual_coef_ :在决策函数中支持向量的系数\n",
    "- coef_ ：分配给每一个特征的系数，仅在线性核时使用。\n",
    "- intercept_：决策函数中的常数。\n",
    "- fit_status_：拟合的状态。0 if 正确拟合, 1 otherwise (will raise warning)\n",
    "- probA_：\n",
    "- probB_："
   ]
  },
  {
   "cell_type": "markdown",
   "metadata": {
    "collapsed": true
   },
   "source": [
    "1.导入库"
   ]
  },
  {
   "cell_type": "code",
   "execution_count": 1,
   "metadata": {
    "collapsed": true
   },
   "outputs": [],
   "source": [
    "import numpy as np\n",
    "import matplotlib.pyplot as plt\n",
    "from sklearn import svm"
   ]
  },
  {
   "cell_type": "markdown",
   "metadata": {},
   "source": [
    "2.生成随机样本点"
   ]
  },
  {
   "cell_type": "code",
   "execution_count": 2,
   "metadata": {
    "collapsed": true
   },
   "outputs": [],
   "source": [
    "X = np.vstack((np.random.randn(20,2)-[2,2],np.random.randn(20,2)+[2,2]))\n",
    "Y = [0]*20+[1]*20"
   ]
  },
  {
   "cell_type": "markdown",
   "metadata": {},
   "source": [
    "3.数据拟合"
   ]
  },
  {
   "cell_type": "code",
   "execution_count": 3,
   "metadata": {},
   "outputs": [
    {
     "data": {
      "text/plain": [
       "SVC(C=1.0, cache_size=200, class_weight=None, coef0=0.0,\n",
       "  decision_function_shape='ovr', degree=3, gamma='auto', kernel='linear',\n",
       "  max_iter=-1, probability=False, random_state=None, shrinking=True,\n",
       "  tol=0.001, verbose=False)"
      ]
     },
     "execution_count": 3,
     "metadata": {},
     "output_type": "execute_result"
    }
   ],
   "source": [
    "clf = svm.SVC(kernel='linear')\n",
    "clf.fit(X,Y)"
   ]
  },
  {
   "cell_type": "markdown",
   "metadata": {},
   "source": [
    "4.画出分割超平面\n",
    "\n",
    "由$W^Tx+b =0$可得，$w_0x_0+w_1x_1+b=0$,从而推导出$x_1 = -\\frac{b}{w_1} - \\frac{w_0}{w_1}x_0$"
   ]
  },
  {
   "cell_type": "code",
   "execution_count": 4,
   "metadata": {
    "collapsed": true
   },
   "outputs": [],
   "source": [
    "w = clf.coef_[0]\n",
    "a= -w[0] / w[1]\n",
    "xx = np.linspace(-5,5)\n",
    "yy = a*xx - (clf.intercept_[0]) / w[1]"
   ]
  },
  {
   "cell_type": "markdown",
   "metadata": {},
   "source": [
    "5.画出支持向量所在的两个平面\n",
    "\n",
    "已知一个支持向量坐标(b[0],b[1])，由点斜式可得：$b[1] = ab[0]+b$，推导出$b = b[1]-ab[0]$"
   ]
  },
  {
   "cell_type": "code",
   "execution_count": 5,
   "metadata": {
    "collapsed": true
   },
   "outputs": [],
   "source": [
    "b = clf.support_vectors_[0]\n",
    "yy_down = a*xx +(b[1]-a*b[0])\n",
    "b = clf.support_vectors_[-1]\n",
    "yy_up = a*xx +(b[1] - a*b[0])"
   ]
  },
  {
   "cell_type": "markdown",
   "metadata": {},
   "source": [
    "6.调用matplotlib画图"
   ]
  },
  {
   "cell_type": "code",
   "execution_count": 6,
   "metadata": {},
   "outputs": [
    {
     "data": {
      "image/png": "[encoded data removed]",
      "text/plain": [
       "<matplotlib.figure.Figure at 0x2281fe73240>"
      ]
     },
     "metadata": {},
     "output_type": "display_data"
    }
   ],
   "source": [
    "plt.plot(xx,yy,'k-')\n",
    "plt.plot(xx,yy_up,'k--')\n",
    "plt.plot(xx,yy_down,'k--')\n",
    "plt.scatter(clf.support_vectors_[:,0],clf.support_vectors_[:,1],s= 80,facecolors = 'none')\n",
    "plt.scatter(X[:,0],X[:,1],c= Y,cmap = plt.cm.Paired)\n",
    "plt.axis('tight')\n",
    "plt.show()"
   ]
  }
 ],
 "metadata": {
  "kernelspec": {
   "display_name": "Python 3",
   "language": "python",
   "name": "python3"
  },
  "language_info": {
   "codemirror_mode": {
    "name": "ipython",
    "version": 3
   },
   "file_extension": ".py",
   "mimetype": "text/x-python",
   "name": "python",
   "nbconvert_exporter": "python",
   "pygments_lexer": "ipython3",
   "version": "3.5.2"
  }
 },
 "nbformat": 4,
 "nbformat_minor": 2
}
