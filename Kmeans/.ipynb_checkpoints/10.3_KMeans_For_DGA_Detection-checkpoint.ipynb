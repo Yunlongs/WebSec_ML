{
 "cells": [
  {
   "cell_type": "markdown",
   "metadata": {},
   "source": [
    "# Web安全之机器学习\n",
    "## 第10章 KMeans算法\n",
    "### 10.3 示例：使用KMeans算法检测DGA域名\n",
    "\n",
    "#### 1.数据搜集和数据清洗\n",
    "\n",
    "加载alexa前100的域名作为白样本，标记为0；分别加载cryptolocker和post-tovar-goz家族的DGA域名，分别标记为2和3."
   ]
  },
  {
   "cell_type": "code",
   "execution_count": 1,
   "metadata": {
    "collapsed": true
   },
   "outputs": [],
   "source": [
    "import numpy as np\n",
    "from sklearn.feature_extraction.text import CountVectorizer\n",
    "from sklearn.cluster import KMeans\n",
    "from sklearn.manifold import TSNE\n",
    "import matplotlib.pyplot as plt"
   ]
  },
  {
   "cell_type": "code",
   "execution_count": 2,
   "metadata": {
    "collapsed": true
   },
   "outputs": [],
   "source": [
    "import numpy as np\n",
    "\n",
    "def load_dga(file_crypto,file_post):\n",
    "    x1 = []\n",
    "    x2 = []\n",
    "    with open(file_crypto,'r') as f:\n",
    "        for line in f.readlines():\n",
    "            x1.append(line.strip().split(',')[0])\n",
    "    with open(file_post,'r') as f:\n",
    "        for line in f.readlines():\n",
    "            x2.append(line.strip().split(',')[0])\n",
    "    return x1,x2\n",
    "\n",
    "def load_alexa(filename):\n",
    "    x3 =[]\n",
    "    with open(filename,'r') as f:\n",
    "        for line in f.readlines():\n",
    "            x3.append(line.strip().split(',')[1])\n",
    "    return x3"
   ]
  },
  {
   "cell_type": "markdown",
   "metadata": {},
   "source": [
    "#### 2.特征化\n",
    "使用2-gram分隔域名，切割单元为字符。进行向量化处理。"
   ]
  },
  {
   "cell_type": "code",
   "execution_count": 3,
   "metadata": {
    "collapsed": true
   },
   "outputs": [],
   "source": [
    "def get_feature():\n",
    "    x1,x2 = load_dga(\"../data/dga/dga-cryptolocke-50.txt\",\"../data/dga/dga-post-tovar-goz-50.txt\")\n",
    "    x3 = load_alexa(\"../data/dga/top-50.csv\")\n",
    "    \n",
    "    y1 = [2]*len(x1)\n",
    "    y2 = [3]*len(x2)\n",
    "    y3 = [0] * len(x3)\n",
    "    \n",
    "    x = x1+x2+x3\n",
    "    y = y1+y2+y3\n",
    "    \n",
    "    cv = CountVectorizer(decode_error='ignore',ngram_range=(2,2),token_pattern=\"\\w\")\n",
    "    X = cv.fit_transform(x).toarray()\n",
    "    return X,y"
   ]
  },
  {
   "cell_type": "markdown",
   "metadata": {},
   "source": [
    "#### 3.训练样本"
   ]
  },
  {
   "cell_type": "code",
   "execution_count": 4,
   "metadata": {
    "collapsed": true
   },
   "outputs": [],
   "source": [
    "X,Y = get_feature()\n",
    "\n",
    "model = KMeans(n_clusters=2)\n",
    "Y_pred = model.fit_predict(X)"
   ]
  },
  {
   "cell_type": "markdown",
   "metadata": {},
   "source": [
    "#### 4.效果验证\n",
    "使用TSNE将高维向量降维，便于作图。"
   ]
  },
  {
   "cell_type": "code",
   "execution_count": 5,
   "metadata": {},
   "outputs": [],
   "source": [
    "tsne = TSNE(learning_rate=100)\n",
    "x = tsne.fit_transform(X)"
   ]
  },
  {
   "cell_type": "markdown",
   "metadata": {},
   "source": [
    "可视化，DGA域名使用符号\"x\"标识"
   ]
  },
  {
   "cell_type": "code",
   "execution_count": 6,
   "metadata": {},
   "outputs": [
    {
     "data": {
      "image/png": "[encoded data removed]",
      "text/plain": [
       "<matplotlib.figure.Figure at 0x2040d714e48>"
      ]
     },
     "metadata": {},
     "output_type": "display_data"
    }
   ],
   "source": [
    "for i,label in enumerate(x):\n",
    "    x1,x2 = x[i]\n",
    "    if Y_pred[i] == 1:\n",
    "        plt.scatter(x1,x2,marker='o',color = 'r')\n",
    "    else:\n",
    "        plt.scatter(x1,x2,marker='x',color='b')\n",
    "plt.show()"
   ]
  }
 ],
 "metadata": {
  "kernelspec": {
   "display_name": "Python 3",
   "language": "python",
   "name": "python3"
  },
  "language_info": {
   "codemirror_mode": {
    "name": "ipython",
    "version": 3
   },
   "file_extension": ".py",
   "mimetype": "text/x-python",
   "name": "python",
   "nbconvert_exporter": "python",
   "pygments_lexer": "ipython3",
   "version": "3.5.2"
  }
 },
 "nbformat": 4,
 "nbformat_minor": 2
}
